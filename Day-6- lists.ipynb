{
 "cells": [
  {
   "cell_type": "code",
   "execution_count": 2,
   "metadata": {},
   "outputs": [],
   "source": [
    "#introdction of lists\n",
    "\n"
   ]
  },
  {
   "cell_type": "code",
   "execution_count": 3,
   "metadata": {},
   "outputs": [
    {
     "name": "stdout",
     "output_type": "stream",
     "text": [
      "['chandana', 'chrissy', 'yuvaanshi', 'scarlett', 'vincy', 'PRADEEP']\n"
     ]
    }
   ],
   "source": [
    "students = ['chandana','chrissy','yuvaanshi','scarlett','vincy','PRADEEP'] # indexing  0,1,2,3,4,5\n",
    "\n",
    "print (students)"
   ]
  },
  {
   "cell_type": "code",
   "execution_count": 4,
   "metadata": {},
   "outputs": [
    {
     "data": {
      "text/plain": [
       "list"
      ]
     },
     "execution_count": 4,
     "metadata": {},
     "output_type": "execute_result"
    }
   ],
   "source": [
    "\n",
    "type(students) # to know the data type"
   ]
  },
  {
   "cell_type": "code",
   "execution_count": 5,
   "metadata": {},
   "outputs": [
    {
     "name": "stdout",
     "output_type": "stream",
     "text": [
      "vincy\n"
     ]
    }
   ],
   "source": [
    "\n",
    "print(students[-2])"
   ]
  },
  {
   "cell_type": "code",
   "execution_count": 6,
   "metadata": {},
   "outputs": [
    {
     "name": "stdout",
     "output_type": "stream",
     "text": [
      "Scarlett\n"
     ]
    }
   ],
   "source": [
    "# enhancement of the code\n",
    "print(students[-3].title())"
   ]
  },
  {
   "cell_type": "code",
   "execution_count": 7,
   "metadata": {},
   "outputs": [
    {
     "name": "stdout",
     "output_type": "stream",
     "text": [
      "SCARLETT\n"
     ]
    }
   ],
   "source": [
    "print(students[-3].upper())"
   ]
  },
  {
   "cell_type": "code",
   "execution_count": 8,
   "metadata": {},
   "outputs": [
    {
     "name": "stdout",
     "output_type": "stream",
     "text": [
      "PRADEEP\n"
     ]
    }
   ],
   "source": [
    "print(students[-1])"
   ]
  },
  {
   "cell_type": "code",
   "execution_count": 9,
   "metadata": {},
   "outputs": [
    {
     "name": "stdout",
     "output_type": "stream",
     "text": [
      "pradeep\n"
     ]
    }
   ],
   "source": [
    "print(students[-1].lower())\n"
   ]
  },
  {
   "cell_type": "code",
   "execution_count": 1,
   "metadata": {},
   "outputs": [
    {
     "name": "stdout",
     "output_type": "stream",
     "text": [
      "['chinni', 'bujji', 'bunty', 'vincy', 'chunchu']\n"
     ]
    }
   ],
   "source": [
    "#changing , adding and removing elements in a list\n",
    "\n",
    "kids = ['chinni','bujji','bunty','vincy','chunchu']\n",
    "print(kids)\n"
   ]
  },
  {
   "cell_type": "code",
   "execution_count": 2,
   "metadata": {},
   "outputs": [
    {
     "name": "stdout",
     "output_type": "stream",
     "text": [
      "['chinni', 'bujji', 'bunty', 'vincy', 'chunchu', 'pichkoo']\n"
     ]
    }
   ],
   "source": [
    "# adding new kids to the kids list \n",
    "# add puchkas to the kids list\n",
    "kids.append('pichkoo')\n",
    "print(kids)\n"
   ]
  },
  {
   "cell_type": "code",
   "execution_count": 3,
   "metadata": {},
   "outputs": [
    {
     "name": "stdout",
     "output_type": "stream",
     "text": [
      "Updated animals list:  ['cat', 'dog', 'rabbit', ['tiger', 'fox']]\n"
     ]
    }
   ],
   "source": [
    "# Adding List to a List\n",
    "\n",
    "# animals list\n",
    "animals = ['cat', 'dog', 'rabbit']\n",
    "\n",
    "# list of wild animals\n",
    "wild_animals = ['tiger', 'fox']\n",
    "\n",
    "# appending wild_animals list to the animals list\n",
    "animals.append(wild_animals)\n",
    "\n",
    "print('Updated animals list: ', animals)"
   ]
  },
  {
   "cell_type": "code",
   "execution_count": 13,
   "metadata": {},
   "outputs": [
    {
     "name": "stdout",
     "output_type": "stream",
     "text": [
      "['chinni', 'bunty', 'vincy', 'chunchu']\n"
     ]
    }
   ],
   "source": [
    "# to remove the name from list\n",
    "kids = ['chinni','bujji','bunty','vincy','chunchu']\n",
    "kids.remove(\"bujji\")\n",
    "print(kids)"
   ]
  },
  {
   "cell_type": "code",
   "execution_count": 19,
   "metadata": {},
   "outputs": [
    {
     "data": {
      "text/plain": [
       "\"begin = ['100','200']\\nend=['200','400']\\nprint(begin)\\nprint(end)\\nbegin.append(end)\\nprint('appended value of begin & end is ',begin)\""
      ]
     },
     "execution_count": 19,
     "metadata": {},
     "output_type": "execute_result"
    }
   ],
   "source": [
    "\"\"\"begin = ['100','200']\n",
    "end=['200','400']\n",
    "print(begin)\n",
    "print(end)\n",
    "begin.append(end)\n",
    "print('appended value of begin & end is ',begin)\"\"\""
   ]
  },
  {
   "cell_type": "code",
   "execution_count": 11,
   "metadata": {},
   "outputs": [
    {
     "name": "stdout",
     "output_type": "stream",
     "text": [
      "['chinni', 'bujji', 'chinku', 'vincy', 'chunchu']\n"
     ]
    }
   ],
   "source": [
    "#changing and modifying the list\n",
    "# requirement remove bujji from list andd replace bunty with chinku\n",
    "kids[2]='chinku' \n",
    "print(kids)\n",
    "\n",
    "\n"
   ]
  },
  {
   "cell_type": "code",
   "execution_count": 20,
   "metadata": {},
   "outputs": [
    {
     "name": "stdout",
     "output_type": "stream",
     "text": [
      "['chinni', 'bunty', 'puchkas', 'vincy', 'chunchu']\n"
     ]
    }
   ],
   "source": [
    "# requirement to insert puchkas in 3rd place\n",
    "kids.insert(2,\"puchkas\")\n",
    "print(kids)"
   ]
  },
  {
   "cell_type": "code",
   "execution_count": 22,
   "metadata": {},
   "outputs": [
    {
     "name": "stdout",
     "output_type": "stream",
     "text": [
      "Language List:  ['French', 'English', 'German', 'Spanish', 'Portuguese']\n"
     ]
    }
   ],
   "source": [
    "# extend of lists\n",
    "\n",
    "# language list\n",
    "language = ['French', 'English', 'German']\n",
    "\n",
    "# another list of language\n",
    "language1 = ['Spanish', 'Portuguese']\n",
    "\n",
    "language.extend(language1)\n",
    "\n",
    "# Extended List\n",
    "print('Language List: ', language)"
   ]
  },
  {
   "cell_type": "code",
   "execution_count": 21,
   "metadata": {},
   "outputs": [
    {
     "data": {
      "text/plain": [
       "5"
      ]
     },
     "execution_count": 21,
     "metadata": {},
     "output_type": "execute_result"
    }
   ],
   "source": [
    "# to find the length of lists\n",
    "\n",
    "len(kids)"
   ]
  },
  {
   "cell_type": "code",
   "execution_count": 9,
   "metadata": {},
   "outputs": [
    {
     "name": "stdout",
     "output_type": "stream",
     "text": [
      "['puchkas', 'bunty', 'vincy']\n"
     ]
    }
   ],
   "source": [
    "\n",
    "\n",
    "#range of lists\n",
    "print(kids[2:5])\n",
    "\n"
   ]
  },
  {
   "cell_type": "code",
   "execution_count": 10,
   "metadata": {},
   "outputs": [
    {
     "name": "stdout",
     "output_type": "stream",
     "text": [
      "['chinni', 'bujji', 'puchkas', 'bunty', 'vincy']\n"
     ]
    }
   ],
   "source": [
    "print(kids[:5]) # to print the list upto chunchu"
   ]
  },
  {
   "cell_type": "code",
   "execution_count": null,
   "metadata": {},
   "outputs": [],
   "source": []
  },
  {
   "cell_type": "code",
   "execution_count": null,
   "metadata": {},
   "outputs": [],
   "source": [
    "\n",
    "# moving elements from the list"
   ]
  },
  {
   "cell_type": "code",
   "execution_count": 25,
   "metadata": {},
   "outputs": [
    {
     "name": "stdout",
     "output_type": "stream",
     "text": [
      "['ram', 'shyam', 'sita', 'veena', 'srinu', 'vincy']\n"
     ]
    }
   ],
   "source": [
    "\n",
    "student=[\"ram\",\"shyam\",\"sita\",\"veena\",\"srinu\",\"vincy\"]\n",
    "print(student)"
   ]
  },
  {
   "cell_type": "code",
   "execution_count": 26,
   "metadata": {},
   "outputs": [
    {
     "name": "stdout",
     "output_type": "stream",
     "text": [
      "['ram', 'sita', 'veena', 'srinu', 'vincy']\n"
     ]
    }
   ],
   "source": [
    "#remove shyam from the list\n",
    "del student[1]\n",
    "print(student)"
   ]
  },
  {
   "cell_type": "code",
   "execution_count": null,
   "metadata": {},
   "outputs": [],
   "source": [
    "#***** delete means it will delete permantly"
   ]
  },
  {
   "cell_type": "code",
   "execution_count": 27,
   "metadata": {},
   "outputs": [
    {
     "name": "stdout",
     "output_type": "stream",
     "text": [
      "['ram', 'sita', 'veena', 'srinu', 'vincy']\n"
     ]
    }
   ],
   "source": [
    "#**Interview question\n",
    "#removing an element by using pop method\n",
    "\"\"\"#The pop() method takes a single argument (index).\n",
    "The argument passed to the method is optional.\n",
    "If not passed, the default index -1 is passed as an argument (index of the last item)\"\"\"\n",
    "print(student)"
   ]
  },
  {
   "cell_type": "code",
   "execution_count": 21,
   "metadata": {},
   "outputs": [
    {
     "data": {
      "text/plain": [
       "'vincy'"
      ]
     },
     "execution_count": 21,
     "metadata": {},
     "output_type": "execute_result"
    }
   ],
   "source": [
    "student.pop()\n"
   ]
  },
  {
   "cell_type": "code",
   "execution_count": 22,
   "metadata": {},
   "outputs": [
    {
     "name": "stdout",
     "output_type": "stream",
     "text": [
      "['ram', 'sita', 'veena', 'srinu']\n"
     ]
    }
   ],
   "source": [
    "\n",
    "print(student)"
   ]
  },
  {
   "cell_type": "code",
   "execution_count": null,
   "metadata": {},
   "outputs": [],
   "source": [
    "# when ever we are using pop method it will eleminate last objects from the list and gets printed remaining"
   ]
  },
  {
   "cell_type": "code",
   "execution_count": 23,
   "metadata": {},
   "outputs": [
    {
     "name": "stdout",
     "output_type": "stream",
     "text": [
      "['ram', 'sita', 'veena']\n"
     ]
    }
   ],
   "source": [
    "# again pop method\n",
    "student.pop()\n",
    "print(student)"
   ]
  },
  {
   "cell_type": "code",
   "execution_count": 24,
   "metadata": {},
   "outputs": [
    {
     "name": "stdout",
     "output_type": "stream",
     "text": [
      "['ram', 'sita']\n"
     ]
    }
   ],
   "source": [
    "# if we wanted to delete specific object using pop\n",
    "student.pop(2)\n",
    "print(student)"
   ]
  },
  {
   "cell_type": "code",
   "execution_count": null,
   "metadata": {},
   "outputs": [],
   "source": [
    "\n",
    "# pop will eleminate the object from the list and creates the corbon copy internally"
   ]
  },
  {
   "cell_type": "code",
   "execution_count": null,
   "metadata": {},
   "outputs": [],
   "source": [
    "# organising a list"
   ]
  },
  {
   "cell_type": "code",
   "execution_count": 32,
   "metadata": {},
   "outputs": [
    {
     "name": "stdout",
     "output_type": "stream",
     "text": [
      "['ram', 'shyam', 'sita', 'veena', 'srinu', 'vincy', 'ashok']\n"
     ]
    }
   ],
   "source": [
    "staff=[\"ram\",\"shyam\",\"sita\",\"veena\",\"srinu\",\"vincy\",\"ashok\"]\n",
    "print(staff)"
   ]
  },
  {
   "cell_type": "code",
   "execution_count": 33,
   "metadata": {},
   "outputs": [
    {
     "name": "stdout",
     "output_type": "stream",
     "text": [
      "['ashok', 'ram', 'shyam', 'sita', 'srinu', 'veena', 'vincy']\n"
     ]
    }
   ],
   "source": [
    "#req: we want to organise the list in alphabetical order a-z\n",
    "#case-1 : temporory organising\n",
    "print(sorted(staff))\n",
    "\n",
    "\n",
    "# now it is alphabetcially \n",
    "#suppose if we have a names starting with same letter then it will take for next immediate letter"
   ]
  },
  {
   "cell_type": "code",
   "execution_count": 34,
   "metadata": {},
   "outputs": [
    {
     "name": "stdout",
     "output_type": "stream",
     "text": [
      "['ram', 'shyam', 'sita', 'veena', 'srinu', 'vincy', 'ashok']\n"
     ]
    }
   ],
   "source": [
    "print(staff)"
   ]
  },
  {
   "cell_type": "code",
   "execution_count": 35,
   "metadata": {},
   "outputs": [
    {
     "name": "stdout",
     "output_type": "stream",
     "text": [
      "['ashok', 'ram', 'shyam', 'sita', 'srinu', 'veena', 'vincy']\n"
     ]
    }
   ],
   "source": [
    "\n",
    "#case-2 permanant sorting\n",
    "staff.sort()\n",
    "print(staff)"
   ]
  },
  {
   "cell_type": "code",
   "execution_count": null,
   "metadata": {},
   "outputs": [],
   "source": [
    "\n",
    "#*** Difference between sort and sorted\n",
    "# in sort changes will be permanat\n",
    "# in sorted changes will be temporary"
   ]
  },
  {
   "cell_type": "code",
   "execution_count": 36,
   "metadata": {},
   "outputs": [
    {
     "name": "stdout",
     "output_type": "stream",
     "text": [
      "['ram', 'shyam', 'sita', 'veena', 'srinu', 'vincy', 'ashok']\n"
     ]
    }
   ],
   "source": [
    "# reverse sorting\n",
    "staff=[\"ram\",\"shyam\",\"sita\",\"veena\",\"srinu\",\"vincy\",\"ashok\"]\n",
    "print(staff)"
   ]
  },
  {
   "cell_type": "code",
   "execution_count": 38,
   "metadata": {},
   "outputs": [
    {
     "name": "stdout",
     "output_type": "stream",
     "text": [
      "['ram', 'shyam', 'sita', 'veena', 'srinu', 'vincy', 'ashok']\n"
     ]
    }
   ],
   "source": [
    "student.sort(reverse=True)\n",
    "print(staff)  # in sort changes will be permana that is y the list is not changed"
   ]
  },
  {
   "cell_type": "code",
   "execution_count": null,
   "metadata": {},
   "outputs": [],
   "source": []
  }
 ],
 "metadata": {
  "kernelspec": {
   "display_name": "Python 3",
   "language": "python",
   "name": "python3"
  },
  "language_info": {
   "codemirror_mode": {
    "name": "ipython",
    "version": 3
   },
   "file_extension": ".py",
   "mimetype": "text/x-python",
   "name": "python",
   "nbconvert_exporter": "python",
   "pygments_lexer": "ipython3",
   "version": "3.7.4"
  }
 },
 "nbformat": 4,
 "nbformat_minor": 2
}
