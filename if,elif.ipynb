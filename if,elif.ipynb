{
 "cells": [
  {
   "cell_type": "code",
   "execution_count": null,
   "metadata": {},
   "outputs": [],
   "source": [
    "# conditional statements:\n",
    "the code will execute when the condition is true"
   ]
  },
  {
   "cell_type": "code",
   "execution_count": null,
   "metadata": {},
   "outputs": [],
   "source": [
    "# syntax:\n",
    "\n",
    "if condition : statement\n",
    "    \n",
    "    or\n",
    "    \n",
    "if condition:\n",
    "    statement-1\n",
    "    statement-2\n",
    "    statement-3\n",
    "    "
   ]
  },
  {
   "cell_type": "code",
   "execution_count": 4,
   "metadata": {},
   "outputs": [
    {
     "name": "stdout",
     "output_type": "stream",
     "text": [
      "Please Enter programming lang nameRuby\n",
      "learn  programing\n"
     ]
    }
   ],
   "source": [
    "name = input(\"Please Enter programming lang name\")\n",
    "if name == \"python\":\n",
    "    print(\"Welcome to python programming\")\n",
    "print(\"learn  programing\")\n"
   ]
  },
  {
   "cell_type": "code",
   "execution_count": null,
   "metadata": {},
   "outputs": [],
   "source": [
    "# if-else condition:\n",
    "\n",
    "syntax:\n",
    "    \n",
    "    if condition:\n",
    "        Action-1\n",
    "    else:\n",
    "        Action-2"
   ]
  },
  {
   "cell_type": "code",
   "execution_count": 7,
   "metadata": {},
   "outputs": [
    {
     "name": "stdout",
     "output_type": "stream",
     "text": [
      "Please Enter your namepython\n",
      "join and learn programing\n"
     ]
    }
   ],
   "source": [
    "name = input(\"Please Enter your name\")\n",
    "\n",
    "if name == \"programming buddies\":\n",
    "    print(\"Welcome to programming Buddies Live session\")\n",
    "    \n",
    "else:\n",
    "    print(\"join and learn programing\")\n",
    "\n"
   ]
  },
  {
   "cell_type": "code",
   "execution_count": null,
   "metadata": {},
   "outputs": [],
   "source": [
    "# if-elif-else/ nested if-else"
   ]
  },
  {
   "cell_type": "code",
   "execution_count": null,
   "metadata": {},
   "outputs": [],
   "source": [
    "syntax:\n",
    "    if condition-1:\n",
    "        Action-1\n",
    "    elif condition-2:\n",
    "        Action-2\n",
    "    elif condtion-3:\n",
    "        Action-3\n",
    "    ............\n",
    "    else:\n",
    "        Defalut condition"
   ]
  },
  {
   "cell_type": "code",
   "execution_count": 12,
   "metadata": {},
   "outputs": [
    {
     "name": "stdout",
     "output_type": "stream",
     "text": [
      "Enter your phone brand name:OPPO\n",
      "This is not a branded phone listed in our store\n"
     ]
    }
   ],
   "source": [
    "brand = input(\"Enter your phone brand name:\")\n",
    "\n",
    "if brand == \"Apple\":\n",
    "    print(\"Apple is a world's no.1 branded phone\")\n",
    "    \n",
    "elif brand == \"Samsung\":\n",
    "    print(\"it is branded but it is failure model, once upon a time it is tneding\")\n",
    "    \n",
    "elif brand == \"Realme\":\n",
    "    print(\"it is not branded but now it is trending\")\n",
    "    \n",
    "elif brand == \"Nokia\":\n",
    "    print(\"Nokia is failure model now no one is using this model\")\n",
    "    \n",
    "else:\n",
    "    print(\"This is not a branded phone listed in our store\")\n",
    "\n",
    "    \n"
   ]
  },
  {
   "cell_type": "code",
   "execution_count": 14,
   "metadata": {},
   "outputs": [
    {
     "name": "stdout",
     "output_type": "stream",
     "text": [
      "Enter First Number200\n",
      "Enter second  Number199\n",
      "Biggest number is : 200\n"
     ]
    }
   ],
   "source": [
    "# find the biggest of two numbers\n",
    "\n",
    "n1 = int(input(\"Enter First Number\"))\n",
    "n2 = int(input(\"Enter second  Number\"))\n",
    "\n",
    "if n1 > n2:\n",
    "    print(\"Biggest number is :\", n1)\n",
    "    \n",
    "else:\n",
    "    print(\"Biggest number is :\", n2)"
   ]
  },
  {
   "cell_type": "code",
   "execution_count": null,
   "metadata": {},
   "outputs": [],
   "source": [
    "task : find the biggest number of 3 number"
   ]
  },
  {
   "cell_type": "code",
   "execution_count": null,
   "metadata": {},
   "outputs": [],
   "source": [
    "# write a program to check the given number is b/w 1 t0 100"
   ]
  },
  {
   "cell_type": "code",
   "execution_count": 18,
   "metadata": {},
   "outputs": [
    {
     "name": "stdout",
     "output_type": "stream",
     "text": [
      "enter number:1\n",
      "The number: 1 is in b/w 1 and 100\n"
     ]
    }
   ],
   "source": [
    "n = int(input(\"enter number:\"))\n",
    "\n",
    "if n>=1 and n<=100:\n",
    "    print(\"The number:\",n , \"is in b/w 1 and 100\")\n",
    "else:\n",
    "    print(\"The number:\",n , \"is not in b/w 1 and 100\")"
   ]
  },
  {
   "cell_type": "code",
   "execution_count": 19,
   "metadata": {},
   "outputs": [
    {
     "name": "stdout",
     "output_type": "stream",
     "text": [
      "P\n",
      "y\n",
      "t\n",
      "h\n",
      "o\n",
      "n\n",
      " \n",
      "P\n",
      "r\n",
      "o\n",
      "g\n",
      "r\n",
      "a\n",
      "m\n"
     ]
    }
   ],
   "source": [
    "# for loops:\n",
    "\n",
    "s = \"Python Program\"\n",
    "\n",
    "for x in s:\n",
    "    print(x)"
   ]
  },
  {
   "cell_type": "code",
   "execution_count": 23,
   "metadata": {},
   "outputs": [
    {
     "name": "stdout",
     "output_type": "stream",
     "text": [
      " Enter some Stringchandana\n",
      "The charecter present at 0 index is : c\n",
      "The charecter present at 1 index is : h\n",
      "The charecter present at 2 index is : a\n",
      "The charecter present at 3 index is : n\n",
      "The charecter present at 4 index is : d\n",
      "The charecter present at 5 index is : a\n",
      "The charecter present at 6 index is : n\n",
      "The charecter present at 7 index is : a\n"
     ]
    }
   ],
   "source": [
    "s = input(\" Enter some String\")\n",
    "i = 0\n",
    "\n",
    "for  x in s:\n",
    "    print(\"The charecter present at\",i , \"index is :\",x)\n",
    "    i = i+1\n",
    "    "
   ]
  },
  {
   "cell_type": "code",
   "execution_count": 24,
   "metadata": {},
   "outputs": [
    {
     "name": "stdout",
     "output_type": "stream",
     "text": [
      "python\n",
      "python\n",
      "python\n",
      "python\n",
      "python\n",
      "python\n",
      "python\n",
      "python\n",
      "python\n",
      "python\n"
     ]
    }
   ],
   "source": [
    "# req: print Python for 10 times using for loop\n",
    "\n",
    "for x in range(10):\n",
    "    print(\"python\")"
   ]
  },
  {
   "cell_type": "code",
   "execution_count": 25,
   "metadata": {},
   "outputs": [
    {
     "name": "stdout",
     "output_type": "stream",
     "text": [
      "0\n",
      "1\n",
      "2\n",
      "3\n",
      "4\n",
      "5\n",
      "6\n",
      "7\n",
      "8\n",
      "9\n",
      "10\n"
     ]
    }
   ],
   "source": [
    "for x in range(11):\n",
    "    print(x)\n"
   ]
  },
  {
   "cell_type": "code",
   "execution_count": null,
   "metadata": {},
   "outputs": [],
   "source": [
    "# task-2: print the odd numbers and even numbers:\n",
    "# taks -3 : print primes and composite.\n",
    "\n",
    "clues- primes number which is divisble by 2 and gives the remider as 1 \n",
    "       which is divisible by itslef and 1 \n",
    "    --> n/2 == 1 "
   ]
  },
  {
   "cell_type": "code",
   "execution_count": null,
   "metadata": {},
   "outputs": [
    {
     "name": "stdout",
     "output_type": "stream",
     "text": [
      "enter name:program\n",
      "Thanks for confirmation\n"
     ]
    }
   ],
   "source": [
    "name=\"\"\n",
    "while name!=\"python\":\n",
    "    name=input(\"enter name:\")\n",
    "    print(\"Thanks for confirmation\")\n",
    "    "
   ]
  },
  {
   "cell_type": "code",
   "execution_count": 3,
   "metadata": {},
   "outputs": [
    {
     "name": "stdout",
     "output_type": "stream",
     "text": [
      "processing is enougn please break the loop\n"
     ]
    }
   ],
   "source": [
    "for i in range(10):\n",
    "    if i==7:\n",
    "        print(\"processing is enougn please break the loop\")\n",
    "        break\n",
    "        print(i)"
   ]
  },
  {
   "cell_type": "code",
   "execution_count": null,
   "metadata": {},
   "outputs": [],
   "source": []
  }
 ],
 "metadata": {
  "kernelspec": {
   "display_name": "Python 3",
   "language": "python",
   "name": "python3"
  },
  "language_info": {
   "codemirror_mode": {
    "name": "ipython",
    "version": 3
   },
   "file_extension": ".py",
   "mimetype": "text/x-python",
   "name": "python",
   "nbconvert_exporter": "python",
   "pygments_lexer": "ipython3",
   "version": "3.7.6"
  }
 },
 "nbformat": 4,
 "nbformat_minor": 2
}
