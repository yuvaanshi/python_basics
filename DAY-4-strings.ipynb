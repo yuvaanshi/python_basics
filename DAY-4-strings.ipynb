{
 "cells": [
  {
   "cell_type": "code",
   "execution_count": 1,
   "metadata": {},
   "outputs": [
    {
     "name": "stdout",
     "output_type": "stream",
     "text": [
      "chandana\n"
     ]
    }
   ],
   "source": [
    "\"\"\"Introduction of strings\n",
    " A string is nothing but a series of charecters\n",
    "    \n",
    "    How to define a string\n",
    "    \n",
    "    3 possible ways\n",
    "    '' --> single \n",
    "    \"\" --> double\n",
    "    '''''' --> triple  \"\"\"\n",
    "\n",
    "name = 'chandana'\n",
    "print(name)"
   ]
  },
  {
   "cell_type": "code",
   "execution_count": 2,
   "metadata": {},
   "outputs": [
    {
     "data": {
      "text/plain": [
       "str"
      ]
     },
     "execution_count": 2,
     "metadata": {},
     "output_type": "execute_result"
    }
   ],
   "source": [
    "type(name)"
   ]
  },
  {
   "cell_type": "code",
   "execution_count": null,
   "metadata": {},
   "outputs": [],
   "source": [
    "'''features of string:\n",
    "    strings are mutable\n",
    "    mutable data types:\n",
    "        the data type which will allow us changes, modify and re assign once its been created\n",
    "        \n",
    "        immutable data type:\n",
    "            \n",
    "            the data type which will not allow us to change or modify or alter once it gets created'''"
   ]
  },
  {
   "cell_type": "code",
   "execution_count": null,
   "metadata": {},
   "outputs": [],
   "source": [
    "# introduction to strings data type\n",
    "\n",
    "name ='dara chandana'\n",
    "print(name)"
   ]
  },
  {
   "cell_type": "code",
   "execution_count": null,
   "metadata": {},
   "outputs": [],
   "source": [
    "# enhancement of the code\n",
    "print(name.title())"
   ]
  },
  {
   "cell_type": "code",
   "execution_count": null,
   "metadata": {},
   "outputs": [],
   "source": [
    "# to know the length of the string\n",
    "name ='Dara Chandana'\n",
    "print(len(name))"
   ]
  },
  {
   "cell_type": "code",
   "execution_count": null,
   "metadata": {},
   "outputs": [],
   "source": [
    "# to print the name in lower case\n",
    "print(name.lower())"
   ]
  },
  {
   "cell_type": "code",
   "execution_count": null,
   "metadata": {},
   "outputs": [],
   "source": [
    "\n",
    "# to print the name in upper case\n",
    "print(name.upper())\n"
   ]
  },
  {
   "cell_type": "code",
   "execution_count": null,
   "metadata": {},
   "outputs": [],
   "source": [
    "# to replace the string\n",
    "print(name.replace(\"r\",\"t\"))"
   ]
  },
  {
   "cell_type": "code",
   "execution_count": null,
   "metadata": {},
   "outputs": [],
   "source": [
    "# The split() method splits the string into substrings if it finds instances of the separator:\n",
    "a = \"Hello, World!\"\n",
    "print(a.split(\",\")) # returns ['Hello', ' World!']"
   ]
  },
  {
   "cell_type": "code",
   "execution_count": 6,
   "metadata": {},
   "outputs": [
    {
     "name": "stdout",
     "output_type": "stream",
     "text": [
      "True\n"
     ]
    }
   ],
   "source": [
    "\"\"\"Check String\n",
    "To check if a certain phrase or character is present in a string, we can use the keywords in or not in.\"\"\"\n",
    "# Check if the phrase \"ain\" is present in the following text:\n",
    "\n",
    "txt = \"this program is written to program the python program for programming buddies\"\n",
    "x = \"gram\" in txt\n",
    "print(x) \n",
    "    "
   ]
  },
  {
   "cell_type": "code",
   "execution_count": 7,
   "metadata": {},
   "outputs": [
    {
     "name": "stdout",
     "output_type": "stream",
     "text": [
      "False\n"
     ]
    }
   ],
   "source": [
    "txt = \"this program is written to program the python program for programming buddies\"\n",
    "x = \"gram\" not in txt\n",
    "print(x) \n",
    "    "
   ]
  },
  {
   "cell_type": "code",
   "execution_count": 8,
   "metadata": {},
   "outputs": [
    {
     "name": "stdout",
     "output_type": "stream",
     "text": [
      "dlroW olleH\n"
     ]
    }
   ],
   "source": [
    "# interview question:\n",
    "# Reverse the string \"Hello World\":\n",
    "\n",
    "txt = \"Hello World\"[::-1]\n",
    "print(txt)"
   ]
  },
  {
   "cell_type": "code",
   "execution_count": 9,
   "metadata": {},
   "outputs": [
    {
     "data": {
      "text/plain": [
       "'Slicing in strings:\\n    Python slice string. Python string supports slicing to create substring. \\n    Note that Python string is immutable,\\n    slicing creates a new substring from the source string and original string remains unchanged.'"
      ]
     },
     "execution_count": 9,
     "metadata": {},
     "output_type": "execute_result"
    }
   ],
   "source": [
    "'''Slicing in strings:\n",
    "    Python slice string. Python string supports slicing to create substring. \n",
    "    Note that Python string is immutable,\n",
    "    slicing creates a new substring from the source string and original string remains unchanged.'''"
   ]
  },
  {
   "cell_type": "code",
   "execution_count": null,
   "metadata": {},
   "outputs": [],
   "source": [
    "Indexing and Slicing. Strings in python support indexing and slicing. ... \n",
    "One way to think about the indexes in a slice is that you give the starting position as the value before the colon, \n",
    "and the starting position plus the number of characters in the slice after the colon"
   ]
  },
  {
   "cell_type": "code",
   "execution_count": 12,
   "metadata": {},
   "outputs": [
    {
     "name": "stdout",
     "output_type": "stream",
     "text": [
      "b\n"
     ]
    }
   ],
   "source": [
    "pb = 'programming buddies'\n",
    "print(pb[12])"
   ]
  },
  {
   "cell_type": "code",
   "execution_count": 13,
   "metadata": {},
   "outputs": [
    {
     "name": "stdout",
     "output_type": "stream",
     "text": [
      "pg\n"
     ]
    }
   ],
   "source": [
    "# ends of the strings \n",
    "print(pb[::10])"
   ]
  },
  {
   "cell_type": "code",
   "execution_count": 14,
   "metadata": {},
   "outputs": [
    {
     "name": "stdout",
     "output_type": "stream",
     "text": [
      "programmin\n"
     ]
    }
   ],
   "source": [
    "# prints upto\n",
    "print(pb[:10])\n"
   ]
  },
  {
   "cell_type": "code",
   "execution_count": 19,
   "metadata": {},
   "outputs": [
    {
     "data": {
      "text/plain": [
       "2268244529680"
      ]
     },
     "execution_count": 19,
     "metadata": {},
     "output_type": "execute_result"
    }
   ],
   "source": []
  },
  {
   "cell_type": "code",
   "execution_count": null,
   "metadata": {},
   "outputs": [],
   "source": []
  },
  {
   "cell_type": "code",
   "execution_count": null,
   "metadata": {},
   "outputs": [],
   "source": []
  },
  {
   "cell_type": "code",
   "execution_count": null,
   "metadata": {},
   "outputs": [],
   "source": []
  }
 ],
 "metadata": {
  "kernelspec": {
   "display_name": "Python 3",
   "language": "python",
   "name": "python3"
  },
  "language_info": {
   "codemirror_mode": {
    "name": "ipython",
    "version": 3
   },
   "file_extension": ".py",
   "mimetype": "text/x-python",
   "name": "python",
   "nbconvert_exporter": "python",
   "pygments_lexer": "ipython3",
   "version": "3.7.4"
  }
 },
 "nbformat": 4,
 "nbformat_minor": 2
}
