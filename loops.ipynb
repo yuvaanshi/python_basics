{
 "cells": [
  {
   "cell_type": "code",
   "execution_count": null,
   "metadata": {},
   "outputs": [],
   "source": [
    "# while loop example"
   ]
  },
  {
   "cell_type": "code",
   "execution_count": 10,
   "metadata": {},
   "outputs": [
    {
     "name": "stdout",
     "output_type": "stream",
     "text": [
      "enter any number .. -1 to exit\n",
      "1\n",
      "enter any number .. -1 to exit\n",
      "2\n",
      "enter any number .. -1 to exit\n",
      "3\n",
      "enter any number .. -1 to exit\n",
      "4\n",
      "enter any number .. -1 to exit\n",
      "5\n",
      "enter any number .. -1 to exit\n",
      "6\n",
      "enter any number .. -1 to exit\n",
      "7\n",
      "enter any number .. -1 to exit\n",
      "8\n",
      "enter any number .. -1 to exit\n",
      "9\n",
      "enter any number .. -1 to exit\n",
      "-1\n",
      "numbers input: 9 average: 5.0\n"
     ]
    }
   ],
   "source": []
  },
  {
   "cell_type": "code",
   "execution_count": null,
   "metadata": {},
   "outputs": [],
   "source": []
  },
  {
   "cell_type": "code",
   "execution_count": null,
   "metadata": {},
   "outputs": [],
   "source": []
  },
  {
   "cell_type": "code",
   "execution_count": null,
   "metadata": {},
   "outputs": [],
   "source": []
  },
  {
   "cell_type": "code",
   "execution_count": null,
   "metadata": {},
   "outputs": [],
   "source": []
  },
  {
   "cell_type": "code",
   "execution_count": null,
   "metadata": {},
   "outputs": [],
   "source": []
  },
  {
   "cell_type": "code",
   "execution_count": 1,
   "metadata": {},
   "outputs": [
    {
     "name": "stdout",
     "output_type": "stream",
     "text": [
      "Current Letter : p\n",
      "Current Letter : r\n",
      "Current Letter : o\n",
      "Current Letter : g\n",
      "Current Letter : r\n",
      "Current Letter : a\n",
      "Current Letter : i\n",
      "Current Letter : n\n",
      "Current Letter : g\n",
      "Current Letter :  \n",
      "Current Letter : B\n",
      "Current Letter : u\n",
      "Current Letter : i\n",
      "Current Letter : e\n",
      "Current Letter : s\n"
     ]
    }
   ],
   "source": [
    "# while loop with continue :\n",
    "\n",
    "\n",
    "# Prints all letters except 'e' and 's'  \n",
    "i = 0\n",
    "a = 'programming Buddies'\n",
    "  \n",
    "while i < len(a):  \n",
    "    if a[i] == 'm' or a[i] == 'd':  \n",
    "        i += 1\n",
    "        continue\n",
    "    print('Current Letter :', a[i]) \n",
    "    i += 1"
   ]
  },
  {
   "cell_type": "code",
   "execution_count": 2,
   "metadata": {},
   "outputs": [
    {
     "name": "stdout",
     "output_type": "stream",
     "text": [
      "Current Letter : P\n",
      "Current Letter : r\n",
      "Current Letter : o\n",
      "Current Letter : g\n",
      "Current Letter : r\n",
      "Current Letter : a\n"
     ]
    }
   ],
   "source": [
    "# break statement using while loop and if condition\n",
    "\n",
    "# break the loop as soon it sees 'e'   \n",
    "# or 's' \n",
    "i = 0\n",
    "a = 'Programming Buddies'\n",
    "  \n",
    "while i < len(a):  \n",
    "    if a[i] == 'm' or a[i] == 'd':  \n",
    "        i += 1\n",
    "        break\n",
    "    print('Current Letter :', a[i]) \n",
    "    i += 1"
   ]
  },
  {
   "cell_type": "code",
   "execution_count": 3,
   "metadata": {},
   "outputs": [
    {
     "name": "stdout",
     "output_type": "stream",
     "text": [
      "Value of i : 19\n"
     ]
    }
   ],
   "source": [
    "#Pass Statement: We use pass statement to write empty loops. Pass is also used for empty control statements,\n",
    "#functions and classes.\n",
    "\n",
    "\n",
    "# An empty loop  \n",
    "a = 'programming buddies'\n",
    "i = 0\n",
    "  \n",
    "while i < len(a): \n",
    "    i += 1\n",
    "    pass\n",
    "print('Value of i :', i) "
   ]
  },
  {
   "cell_type": "code",
   "execution_count": null,
   "metadata": {},
   "outputs": [],
   "source": [
    "# introduction to while else loop\n",
    "\n",
    "\n",
    "\"\"\"while loop executes the block until a condition is satisfied. When the condition becomes false, \n",
    "the statement immediately after the loop is executed. \n",
    "The else clause is only executed when your while condition becomes false. \n",
    "If you break out of the loop, or if an exception is raised, it won’t be executed.\n",
    "\n",
    "Note: The else block just after for/while is executed only when the loop is NOT terminated by a break statement. \"\"\""
   ]
  },
  {
   "cell_type": "code",
   "execution_count": 4,
   "metadata": {},
   "outputs": [
    {
     "name": "stdout",
     "output_type": "stream",
     "text": [
      "1\n",
      "2\n",
      "3\n",
      "4\n",
      "No Break\n",
      "\n",
      "1\n"
     ]
    }
   ],
   "source": [
    "\n",
    "\n",
    "\n",
    "# Python program to demonstrate \n",
    "# while-else loop \n",
    "i = 0 \n",
    "while i < 4: \n",
    "    i += 1\n",
    "    print(i)  \n",
    "else: # Executed because no break in for  \n",
    "    print(\"No Break\\n\")  \n",
    "  \n",
    "i = 0 \n",
    "while i < 4:  \n",
    "    i += 1\n",
    "    print(i)  \n",
    "    break\n",
    "else: # Not executed as there is a break  \n",
    "    print(\"No Break\") "
   ]
  },
  {
   "cell_type": "code",
   "execution_count": 5,
   "metadata": {},
   "outputs": [
    {
     "name": "stdout",
     "output_type": "stream",
     "text": [
      "baz\n",
      "bar\n",
      "foo\n"
     ]
    }
   ],
   "source": []
  },
  {
   "cell_type": "code",
   "execution_count": 6,
   "metadata": {},
   "outputs": [
    {
     "name": "stdout",
     "output_type": "stream",
     "text": [
      "enter number of rows9\n",
      "10\n",
      "1010\n",
      "101010\n",
      "10101010\n",
      "1010101010\n",
      "101010101010\n",
      "10101010101010\n",
      "1010101010101010\n",
      "101010101010101010\n"
     ]
    }
   ],
   "source": [
    "n= int(input(\"enter number of rows\"))\n",
    "for i in range(1,n+1):\n",
    "    for j in range(1,i+1):\n",
    "        print(\"10\",end=\"\")\n",
    "    print()"
   ]
  },
  {
   "cell_type": "code",
   "execution_count": null,
   "metadata": {},
   "outputs": [],
   "source": [
    "i=0;\n",
    "while True:\n",
    "    i=i+1;\n",
    "    print(\"Hello\",i)"
   ]
  },
  {
   "cell_type": "code",
   "execution_count": null,
   "metadata": {},
   "outputs": [],
   "source": []
  },
  {
   "cell_type": "code",
   "execution_count": null,
   "metadata": {},
   "outputs": [],
   "source": []
  }
 ],
 "metadata": {
  "kernelspec": {
   "display_name": "Python 3",
   "language": "python",
   "name": "python3"
  },
  "language_info": {
   "codemirror_mode": {
    "name": "ipython",
    "version": 3
   },
   "file_extension": ".py",
   "mimetype": "text/x-python",
   "name": "python",
   "nbconvert_exporter": "python",
   "pygments_lexer": "ipython3",
   "version": "3.7.6"
  }
 },
 "nbformat": 4,
 "nbformat_minor": 2
}
